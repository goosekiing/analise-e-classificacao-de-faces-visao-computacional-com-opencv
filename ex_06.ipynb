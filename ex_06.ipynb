{
 "cells": [
  {
   "cell_type": "code",
   "execution_count": 1,
   "metadata": {},
   "outputs": [],
   "source": [
    "import cv2\n",
    "import dlib\n",
    "import matplotlib.pyplot as plt\n",
    "import numpy as np\n",
    "from scipy.spatial import distance as dist\n",
    "\n",
    "from io import BytesIO\n",
    "from IPython.display import clear_output, Image, display\n",
    "from PIL import Image as Img"
   ]
  },
  {
   "cell_type": "code",
   "execution_count": 2,
   "metadata": {},
   "outputs": [],
   "source": [
    "def padronizar_imagem(imagem):\n",
    "    imagem = cv2.cvtColor(imagem, cv2.COLOR_BGR2RGB)\n",
    "    imagem = cv2.resize(imagem, (500, 400))\n",
    "    return imagem\n",
    "\n",
    "def exibir_video(frame):\n",
    "    img = Img.fromarray(frame, \"RGB\")\n",
    "    buffer = BytesIO()\n",
    "    img.save(buffer, format=\"JPEG\")\n",
    "    display(Image(data=buffer.getvalue()))\n",
    "    clear_output(wait=True)"
   ]
  },
  {
   "cell_type": "code",
   "execution_count": 3,
   "metadata": {},
   "outputs": [],
   "source": [
    "classificador_dlib_68_pontos = \"data/classificadores/shape_predictor_68_face_landmarks.dat\"\n",
    "# download: https://github.com/italojs/facial-landmarks-recognition/blob/master/shape_predictor_68_face_landmarks.dat\n",
    "classificador_dlib = dlib.shape_predictor(classificador_dlib_68_pontos)\n",
    "detector_face = dlib.get_frontal_face_detector()"
   ]
  },
  {
   "cell_type": "code",
   "execution_count": 4,
   "metadata": {},
   "outputs": [],
   "source": [
    "FACE = list(range(17, 68))\n",
    "FACE_COMPLETA = list(range(0, 68))\n",
    "LABIO = list(range(48, 61))\n",
    "SOMBRANCELHA_DIREITA = list(range(17, 22))\n",
    "SOMBRANCELHA_ESQUERDA = list(range(22, 27))\n",
    "OLHO_DIREITO = list(range(36, 42))\n",
    "OLHO_ESQUERDO = list(range(42, 48))\n",
    "NARIZ = list(range(27, 35))\n",
    "MANDIBULA = list(range(0, 17))"
   ]
  },
  {
   "cell_type": "code",
   "execution_count": 5,
   "metadata": {},
   "outputs": [],
   "source": [
    "def pontos_marcos_faciais(imagem):\n",
    "    retangulos = detector_face(imagem, 1)\n",
    "\n",
    "    if len(retangulos) == 0:\n",
    "        return None\n",
    "\n",
    "    marcos = []\n",
    "\n",
    "    for retangulo in retangulos:\n",
    "        marcos.append(np.matrix([[p.x, p.y] for p in classificador_dlib(imagem, retangulo).parts()]))\n",
    "\n",
    "    return marcos"
   ]
  },
  {
   "cell_type": "code",
   "execution_count": 6,
   "metadata": {},
   "outputs": [],
   "source": [
    "def anotar_marcos_faciais(imagem, marcos_faciais):\n",
    "    if imagem is None:\n",
    "        return im\n",
    "\n",
    "    for marco in marcos_faciais:\n",
    "        for idx, ponto in enumerate(marco):\n",
    "            centro = (ponto[0, 0], ponto[0, 1])\n",
    "            cv2.circle(imagem, centro, 3, color=(255, 255, 0), thickness=-1)\n",
    "    return imagem"
   ]
  },
  {
   "cell_type": "code",
   "execution_count": 7,
   "metadata": {},
   "outputs": [],
   "source": [
    "def aspecto_razao_boca(pontos_boca):\n",
    "    a = dist.euclidean(pontos_boca[3].tolist()[0], pontos_boca[9].tolist()[0])\n",
    "    b = dist.euclidean(pontos_boca[2].tolist()[0], pontos_boca[10].tolist()[0])\n",
    "    c = dist.euclidean(pontos_boca[4].tolist()[0], pontos_boca[8].tolist()[0])\n",
    "    d = dist.euclidean(pontos_boca[0].tolist()[0], pontos_boca[6].tolist()[0])\n",
    "    aspecto_razao = (a + b + c)/(3.0 * d)\n",
    "    return aspecto_razao"
   ]
  },
  {
   "cell_type": "code",
   "execution_count": 9,
   "metadata": {},
   "outputs": [
    {
     "name": "stdout",
     "output_type": "stream",
     "text": [
      "Interrompido\n"
     ]
    }
   ],
   "source": [
    "captura_video = cv2.VideoCapture(0)\n",
    "\n",
    "try:\n",
    "    aspecto_razao_max = 0\n",
    "    qtde_bocejo = 0\n",
    "\n",
    "    bocejo = False\n",
    "    bocejo_anterior = False\n",
    "\n",
    "    while(True):\n",
    "        captura_ok, frame = captura_video.read()\n",
    "\n",
    "        if captura_ok:\n",
    "            frame = padronizar_imagem(frame)\n",
    "            pontos = pontos_marcos_faciais(frame)\n",
    "\n",
    "            if pontos is not None:\n",
    "\n",
    "                aspecto_razao = aspecto_razao_boca(pontos[0][LABIO])\n",
    "                aspecto_razao = round(aspecto_razao, 3)\n",
    "\n",
    "                if aspecto_razao > aspecto_razao_max:\n",
    "                    aspecto_razao_max = aspecto_razao\n",
    "\n",
    "                aspecto_razao_info = \"aspecto razao \" + str(aspecto_razao) + \" maximo \" + str(aspecto_razao_max)\n",
    "\n",
    "                frame = anotar_marcos_faciais(frame, pontos)\n",
    "\n",
    "                coord = tuple(pontos[0][LABIO][0].A1.reshape(1, -1)[0])\n",
    "                coord = (coord[0], coord[1] + 20)\n",
    "\n",
    "                cv2.putText(frame, aspecto_razao_info, coord, cv2.FONT_HERSHEY_SIMPLEX, 0.5, (255,255,0), 2)\n",
    "\n",
    "                if aspecto_razao > 0.6:\n",
    "                    bocejo = True\n",
    "                else:\n",
    "                    bocejo = False\n",
    "\n",
    "                if bocejo_anterior == False and bocejo == True:\n",
    "                    qtde_bocejo += 1\n",
    "\n",
    "                coord = (coord[0], coord[1] + 23)\n",
    "                cv2.putText(frame, \"bocejos \" + str(qtde_bocejo), coord, cv2.FONT_HERSHEY_SIMPLEX, 0.5, (255,0,0), 2)\n",
    "\n",
    "                bocejo_anterior = bocejo\n",
    "\n",
    "            exibir_video(frame)\n",
    "\n",
    "except KeyboardInterrupt:\n",
    "    captura_video.release()\n",
    "    print(\"Interrompido\")"
   ]
  }
 ],
 "metadata": {
  "kernelspec": {
   "display_name": "Python 3",
   "language": "python",
   "name": "python3"
  },
  "language_info": {
   "codemirror_mode": {
    "name": "ipython",
    "version": 3
   },
   "file_extension": ".py",
   "mimetype": "text/x-python",
   "name": "python",
   "nbconvert_exporter": "python",
   "pygments_lexer": "ipython3",
   "version": "3.8.10"
  }
 },
 "nbformat": 4,
 "nbformat_minor": 2
}
