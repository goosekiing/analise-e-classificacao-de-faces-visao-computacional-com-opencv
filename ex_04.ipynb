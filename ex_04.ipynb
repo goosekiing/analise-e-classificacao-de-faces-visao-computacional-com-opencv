{
 "cells": [
  {
   "cell_type": "code",
   "execution_count": 1,
   "metadata": {},
   "outputs": [],
   "source": [
    "from io import BytesIO\n",
    "from IPython.display import clear_output, Image, display\n",
    "from PIL import Image as Img\n",
    "import numpy as np\n",
    "from os import listdir\n",
    "from os.path import isfile, join\n",
    "import cv2"
   ]
  },
  {
   "cell_type": "code",
   "execution_count": 2,
   "metadata": {},
   "outputs": [],
   "source": [
    "def padronizar_imagem(imagem):\n",
    "    imagem = cv2.cvtColor(imagem, cv2.COLOR_BGR2RGB)\n",
    "    imagem = cv2.resize(imagem, (600,500))\n",
    "    return imagem\n",
    "\n",
    "def exibir_video(frame):\n",
    "    img = Img.fromarray(frame, \"RGB\")\n",
    "    buffer = BytesIO()\n",
    "    img.save(buffer, format=\"JPEG\")\n",
    "    display(Image(data=buffer.getvalue()))\n",
    "    clear_output(wait=True)"
   ]
  },
  {
   "cell_type": "code",
   "execution_count": 3,
   "metadata": {},
   "outputs": [],
   "source": [
    "# captura_video = cv2.VideoCapture(0)\n",
    "\n",
    "# try:\n",
    "#     while(True):\n",
    "#         captura_ok, frame = captura_video.read()\n",
    "\n",
    "#         if captura_ok:\n",
    "#             frame = padronizar_imagem(frame)\n",
    "#             exibir_video(frame)\n",
    "\n",
    "# except KeyboardInterrupt:\n",
    "#     captura_video.release()\n",
    "#     print(\"Interrompido\")"
   ]
  },
  {
   "cell_type": "code",
   "execution_count": 4,
   "metadata": {},
   "outputs": [],
   "source": [
    "# captura_video = cv2.VideoCapture(0)\n",
    "\n",
    "# classificador_face = cv2.CascadeClassifier('data\\classificadores\\haarcascade_frontalface_default.xml')\n",
    "\n",
    "# contador = 0\n",
    "\n",
    "# try:\n",
    "#     while(True):\n",
    "#         captura_ok, frame = captura_video.read()\n",
    "\n",
    "#         if captura_ok:\n",
    "#             frame = padronizar_imagem(frame)\n",
    "#             frame_gray = cv2.cvtColor(frame, cv2.COLOR_RGB2GRAY)\n",
    "\n",
    "#             faces = classificador_face.detectMultiScale(frame_gray, 1.3, 5)\n",
    "\n",
    "#             if len(faces) > 0:\n",
    "#                 contador += 1\n",
    "#                 if contador <= 100:\n",
    "#                     for (x,y,w,h) in faces:\n",
    "#                         roi = frame_gray[y:y+h, x:x+w]\n",
    "#                         cv2.resize(roi, (200, 200), interpolation=cv2.INTER_LANCZOS4)\n",
    "#                         cv2.imwrite(\"data\\images\\ex_04\\\\\" + str(contador) + \".png\", roi)\n",
    "#                         cv2.putText(frame, \"Coletado \" + str(contador) + \" faces\", (20,20), cv2.FONT_HERSHEY_SIMPLEX, 0.5, (255,255,0), 2)\n",
    "#             else:\n",
    "#                 cv2.putText(frame, \"ConcluIdo\", (20,20), cv2.FONT_HERSHEY_SIMPLEX, 0.5, (255,255,0), 2)\n",
    "\n",
    "#             exibir_video(frame)\n",
    "\n",
    "# except KeyboardInterrupt:\n",
    "#     captura_video.release()\n",
    "#     print(\"Interrompido\")"
   ]
  },
  {
   "cell_type": "code",
   "execution_count": 5,
   "metadata": {},
   "outputs": [],
   "source": [
    "faces_caminho_treinamento = \"data\\images\\ex_04\\\\\"\n",
    "lista_faces_treinamento = [f for f in listdir(faces_caminho_treinamento) if isfile(join(faces_caminho_treinamento, f))]"
   ]
  },
  {
   "cell_type": "code",
   "execution_count": 6,
   "metadata": {},
   "outputs": [],
   "source": [
    "dados_treinamento, sujeitos = [], []\n",
    "\n",
    "for i, arquivo in enumerate(lista_faces_treinamento):\n",
    "    imagem_caminho = faces_caminho_treinamento + arquivo\n",
    "    imagem = cv2.imread(imagem_caminho, cv2.IMREAD_GRAYSCALE)\n",
    "    dados_treinamento.append(imagem)\n",
    "    sujeitos.append(0)\n",
    "\n",
    "sujeitos = np.asarray(sujeitos, dtype=np.int32)"
   ]
  },
  {
   "cell_type": "code",
   "execution_count": 7,
   "metadata": {},
   "outputs": [],
   "source": [
    "model_lbph = cv2.face.LBPHFaceRecognizer_create()\n",
    "model_lbph.train(dados_treinamento, sujeitos)"
   ]
  },
  {
   "cell_type": "code",
   "execution_count": 8,
   "metadata": {},
   "outputs": [
    {
     "name": "stdout",
     "output_type": "stream",
     "text": [
      "Interrompido\n"
     ]
    }
   ],
   "source": [
    "captura_video = cv2.VideoCapture(0)\n",
    "\n",
    "classificador_face = cv2.CascadeClassifier('data\\classificadores\\haarcascade_frontalface_default.xml')\n",
    "\n",
    "contador = 0\n",
    "\n",
    "try:\n",
    "    while(True):\n",
    "        captura_ok, frame = captura_video.read()\n",
    "\n",
    "        if captura_ok:\n",
    "            frame = padronizar_imagem(frame)\n",
    "            frame_gray = cv2.cvtColor(frame, cv2.COLOR_RGB2GRAY)\n",
    "            faces = classificador_face.detectMultiScale(frame_gray, 1.3, 5)\n",
    "\n",
    "            if len(faces) > 0:\n",
    "                for (x,y,w,h) in faces:\n",
    "                    roi = frame_gray[y:y+h, x:x+w]\n",
    "                    roi = cv2.resize(roi, (200, 200), interpolation=cv2.INTER_LANCZOS4)\n",
    "                    predicao = model_lbph.predict(roi)\n",
    "                    cv2.putText(frame, \"Similaridade \" + str(predicao[1]), (x,y), cv2.FONT_HERSHEY_SIMPLEX, 0.5, (255,255,0), 2)\n",
    "\n",
    "            exibir_video(frame)\n",
    "\n",
    "except KeyboardInterrupt:\n",
    "    captura_video.release()\n",
    "    print(\"Interrompido\")"
   ]
  }
 ],
 "metadata": {
  "kernelspec": {
   "display_name": "Python 3",
   "language": "python",
   "name": "python3"
  },
  "language_info": {
   "codemirror_mode": {
    "name": "ipython",
    "version": 3
   },
   "file_extension": ".py",
   "mimetype": "text/x-python",
   "name": "python",
   "nbconvert_exporter": "python",
   "pygments_lexer": "ipython3",
   "version": "3.8.10"
  }
 },
 "nbformat": 4,
 "nbformat_minor": 2
}
